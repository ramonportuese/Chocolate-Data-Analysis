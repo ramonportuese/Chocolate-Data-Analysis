{
 "cells": [
  {
   "cell_type": "markdown",
   "id": "24957193",
   "metadata": {},
   "source": [
    "6.3 CAREER FOUNDRY FINAL PROJECT 6.3 GEOGRAPHICAL VISUALIZATION WITH PYTHON"
   ]
  },
  {
   "cell_type": "code",
   "execution_count": 1,
   "id": "6fa75cb9",
   "metadata": {},
   "outputs": [],
   "source": [
    " #  What this is doing is importing the correct libraries\n",
    "    # However Note: geo pandas was not really used but I will use more visualizations with Tableau \n",
    "import pandas as pd\n",
    "import numpy as np\n",
    "import os\n",
    "import matplotlib.pyplot as plt\n",
    "import matplotlib\n",
    "import seaborn as sns\n",
    "import scipy\n",
    "import json\n",
    "import folium\n"
   ]
  },
  {
   "cell_type": "code",
   "execution_count": 2,
   "id": "528ff228",
   "metadata": {},
   "outputs": [],
   "source": [
    "\n",
    "# python -m pip install folium"
   ]
  },
  {
   "cell_type": "code",
   "execution_count": null,
   "id": "afb08f24",
   "metadata": {},
   "outputs": [],
   "source": []
  },
  {
   "cell_type": "code",
   "execution_count": 3,
   "id": "b658f47f",
   "metadata": {},
   "outputs": [],
   "source": [
    "path = r'C:\\Users\\rdpor\\anaconda3\\Scripts\\CAREER FOUNDRY ACHIEVMENT 6\\Prepared Data\\chocolate_bar_ratings_cleaned2.csv'"
   ]
  },
  {
   "cell_type": "code",
   "execution_count": 4,
   "id": "148cfab2",
   "metadata": {},
   "outputs": [],
   "source": [
    "# This code is importing the chocolate bar ratings data frame\n",
    "choc_bar_ratings_df_clean2= pd.read_csv(r'C:\\Users\\rdpor\\anaconda3\\Scripts\\CAREER FOUNDRY ACHIEVMENT 6\\Prepared Data\\choc_bar_ratings_df_clean2.csv')\n"
   ]
  },
  {
   "cell_type": "code",
   "execution_count": null,
   "id": "ace2bc76",
   "metadata": {},
   "outputs": [],
   "source": []
  },
  {
   "cell_type": "code",
   "execution_count": 5,
   "id": "2ecc2146",
   "metadata": {},
   "outputs": [
    {
     "data": {
      "text/html": [
       "<div>\n",
       "<style scoped>\n",
       "    .dataframe tbody tr th:only-of-type {\n",
       "        vertical-align: middle;\n",
       "    }\n",
       "\n",
       "    .dataframe tbody tr th {\n",
       "        vertical-align: top;\n",
       "    }\n",
       "\n",
       "    .dataframe thead th {\n",
       "        text-align: right;\n",
       "    }\n",
       "</style>\n",
       "<table border=\"1\" class=\"dataframe\">\n",
       "  <thead>\n",
       "    <tr style=\"text-align: right;\">\n",
       "      <th></th>\n",
       "      <th>Company (Manufacturer)</th>\n",
       "      <th>Company Location</th>\n",
       "      <th>Review Date</th>\n",
       "      <th>Country of Bean Origin</th>\n",
       "      <th>Specific Bean Origin or Bar Name</th>\n",
       "      <th>Cocoa Percent</th>\n",
       "      <th>Most Memorable Characteristics</th>\n",
       "      <th>Rating</th>\n",
       "      <th>Num_of_Ingredients</th>\n",
       "      <th>Specific Ingredients</th>\n",
       "      <th>Cocoa Level</th>\n",
       "      <th>Ingredient Level</th>\n",
       "      <th>Rating Level</th>\n",
       "    </tr>\n",
       "  </thead>\n",
       "  <tbody>\n",
       "    <tr>\n",
       "      <th>0</th>\n",
       "      <td>Manoa</td>\n",
       "      <td>U.S.A.</td>\n",
       "      <td>2012.0</td>\n",
       "      <td>Liberia</td>\n",
       "      <td>Liberia, batch 174</td>\n",
       "      <td>0.76</td>\n",
       "      <td>molassses, intense, off, herb</td>\n",
       "      <td>3.25</td>\n",
       "      <td>3</td>\n",
       "      <td>B,S,C</td>\n",
       "      <td>NaN</td>\n",
       "      <td>3.0</td>\n",
       "      <td>Mid-level</td>\n",
       "    </tr>\n",
       "    <tr>\n",
       "      <th>1</th>\n",
       "      <td>Manoa</td>\n",
       "      <td>U.S.A.</td>\n",
       "      <td>2012.0</td>\n",
       "      <td>U.S.A.</td>\n",
       "      <td>Hawai'i Island, Hamakua, Hawaiian Crown, b. 176</td>\n",
       "      <td>0.76</td>\n",
       "      <td>oily, tangy, fruit, earthy</td>\n",
       "      <td>2.75</td>\n",
       "      <td>3</td>\n",
       "      <td>B,S,C</td>\n",
       "      <td>NaN</td>\n",
       "      <td>3.0</td>\n",
       "      <td>Mid-level</td>\n",
       "    </tr>\n",
       "    <tr>\n",
       "      <th>2</th>\n",
       "      <td>Manoa</td>\n",
       "      <td>U.S.A.</td>\n",
       "      <td>2012.0</td>\n",
       "      <td>Peru</td>\n",
       "      <td>Piura, batch 173</td>\n",
       "      <td>0.76</td>\n",
       "      <td>banana, menthol, medicinal</td>\n",
       "      <td>3.00</td>\n",
       "      <td>3</td>\n",
       "      <td>B,S,C</td>\n",
       "      <td>NaN</td>\n",
       "      <td>3.0</td>\n",
       "      <td>Mid-level</td>\n",
       "    </tr>\n",
       "    <tr>\n",
       "      <th>3</th>\n",
       "      <td>Manoa</td>\n",
       "      <td>U.S.A.</td>\n",
       "      <td>2012.0</td>\n",
       "      <td>U.S.A.</td>\n",
       "      <td>O'ahu Island, Winward,Maunawili district, b. 151</td>\n",
       "      <td>0.68</td>\n",
       "      <td>molasses, sweet, cocoa</td>\n",
       "      <td>3.25</td>\n",
       "      <td>3</td>\n",
       "      <td>B,S,C</td>\n",
       "      <td>NaN</td>\n",
       "      <td>3.0</td>\n",
       "      <td>Mid-level</td>\n",
       "    </tr>\n",
       "    <tr>\n",
       "      <th>4</th>\n",
       "      <td>Nanea</td>\n",
       "      <td>U.S.A.</td>\n",
       "      <td>2013.0</td>\n",
       "      <td>U.S.A.</td>\n",
       "      <td>Criollo Blend</td>\n",
       "      <td>0.72</td>\n",
       "      <td>sandy, spicy, earthy</td>\n",
       "      <td>3.50</td>\n",
       "      <td>0</td>\n",
       "      <td>NaN</td>\n",
       "      <td>NaN</td>\n",
       "      <td>NaN</td>\n",
       "      <td>Mid-level</td>\n",
       "    </tr>\n",
       "  </tbody>\n",
       "</table>\n",
       "</div>"
      ],
      "text/plain": [
       "  Company (Manufacturer) Company Location  Review Date Country of Bean Origin  \\\n",
       "0                  Manoa           U.S.A.       2012.0                Liberia   \n",
       "1                  Manoa           U.S.A.       2012.0                 U.S.A.   \n",
       "2                  Manoa           U.S.A.       2012.0                   Peru   \n",
       "3                  Manoa           U.S.A.       2012.0                 U.S.A.   \n",
       "4                  Nanea           U.S.A.       2013.0                 U.S.A.   \n",
       "\n",
       "                   Specific Bean Origin or Bar Name  Cocoa Percent  \\\n",
       "0                                Liberia, batch 174           0.76   \n",
       "1   Hawai'i Island, Hamakua, Hawaiian Crown, b. 176           0.76   \n",
       "2                                  Piura, batch 173           0.76   \n",
       "3  O'ahu Island, Winward,Maunawili district, b. 151           0.68   \n",
       "4                                     Criollo Blend           0.72   \n",
       "\n",
       "  Most Memorable Characteristics  Rating  Num_of_Ingredients  \\\n",
       "0  molassses, intense, off, herb    3.25                   3   \n",
       "1     oily, tangy, fruit, earthy    2.75                   3   \n",
       "2     banana, menthol, medicinal    3.00                   3   \n",
       "3         molasses, sweet, cocoa    3.25                   3   \n",
       "4           sandy, spicy, earthy    3.50                   0   \n",
       "\n",
       "  Specific Ingredients Cocoa Level  Ingredient Level Rating Level  \n",
       "0                B,S,C         NaN               3.0    Mid-level  \n",
       "1                B,S,C         NaN               3.0    Mid-level  \n",
       "2                B,S,C         NaN               3.0    Mid-level  \n",
       "3                B,S,C         NaN               3.0    Mid-level  \n",
       "4                  NaN         NaN               NaN    Mid-level  "
      ]
     },
     "execution_count": 5,
     "metadata": {},
     "output_type": "execute_result"
    }
   ],
   "source": [
    "# importing the chocolate bar ratings data frame\n",
    "choc_bar_ratings_df_clean2.head()"
   ]
  },
  {
   "cell_type": "code",
   "execution_count": 6,
   "id": "7b37c122",
   "metadata": {
    "scrolled": true
   },
   "outputs": [
    {
     "data": {
      "text/html": [
       "<div>\n",
       "<style scoped>\n",
       "    .dataframe tbody tr th:only-of-type {\n",
       "        vertical-align: middle;\n",
       "    }\n",
       "\n",
       "    .dataframe tbody tr th {\n",
       "        vertical-align: top;\n",
       "    }\n",
       "\n",
       "    .dataframe thead th {\n",
       "        text-align: right;\n",
       "    }\n",
       "</style>\n",
       "<table border=\"1\" class=\"dataframe\">\n",
       "  <thead>\n",
       "    <tr style=\"text-align: right;\">\n",
       "      <th></th>\n",
       "      <th>Review Date</th>\n",
       "      <th>Cocoa Percent</th>\n",
       "      <th>Rating</th>\n",
       "      <th>Num_of_Ingredients</th>\n",
       "      <th>Ingredient Level</th>\n",
       "    </tr>\n",
       "  </thead>\n",
       "  <tbody>\n",
       "    <tr>\n",
       "      <th>count</th>\n",
       "      <td>2656.000000</td>\n",
       "      <td>2657.000000</td>\n",
       "      <td>2656.000000</td>\n",
       "      <td>2657.000000</td>\n",
       "      <td>2569.000000</td>\n",
       "    </tr>\n",
       "    <tr>\n",
       "      <th>mean</th>\n",
       "      <td>2014.750753</td>\n",
       "      <td>0.716131</td>\n",
       "      <td>3.198795</td>\n",
       "      <td>2.928867</td>\n",
       "      <td>3.029194</td>\n",
       "    </tr>\n",
       "    <tr>\n",
       "      <th>std</th>\n",
       "      <td>4.220790</td>\n",
       "      <td>0.055345</td>\n",
       "      <td>0.441614</td>\n",
       "      <td>1.037975</td>\n",
       "      <td>0.900158</td>\n",
       "    </tr>\n",
       "    <tr>\n",
       "      <th>min</th>\n",
       "      <td>2006.000000</td>\n",
       "      <td>0.420000</td>\n",
       "      <td>1.000000</td>\n",
       "      <td>0.000000</td>\n",
       "      <td>1.000000</td>\n",
       "    </tr>\n",
       "    <tr>\n",
       "      <th>25%</th>\n",
       "      <td>2012.000000</td>\n",
       "      <td>0.700000</td>\n",
       "      <td>3.000000</td>\n",
       "      <td>2.000000</td>\n",
       "      <td>2.000000</td>\n",
       "    </tr>\n",
       "    <tr>\n",
       "      <th>50%</th>\n",
       "      <td>2015.000000</td>\n",
       "      <td>0.700000</td>\n",
       "      <td>3.250000</td>\n",
       "      <td>3.000000</td>\n",
       "      <td>3.000000</td>\n",
       "    </tr>\n",
       "    <tr>\n",
       "      <th>75%</th>\n",
       "      <td>2018.000000</td>\n",
       "      <td>0.740000</td>\n",
       "      <td>3.500000</td>\n",
       "      <td>4.000000</td>\n",
       "      <td>4.000000</td>\n",
       "    </tr>\n",
       "    <tr>\n",
       "      <th>max</th>\n",
       "      <td>2023.000000</td>\n",
       "      <td>1.000000</td>\n",
       "      <td>4.000000</td>\n",
       "      <td>6.000000</td>\n",
       "      <td>6.000000</td>\n",
       "    </tr>\n",
       "  </tbody>\n",
       "</table>\n",
       "</div>"
      ],
      "text/plain": [
       "       Review Date  Cocoa Percent       Rating  Num_of_Ingredients  \\\n",
       "count  2656.000000    2657.000000  2656.000000         2657.000000   \n",
       "mean   2014.750753       0.716131     3.198795            2.928867   \n",
       "std       4.220790       0.055345     0.441614            1.037975   \n",
       "min    2006.000000       0.420000     1.000000            0.000000   \n",
       "25%    2012.000000       0.700000     3.000000            2.000000   \n",
       "50%    2015.000000       0.700000     3.250000            3.000000   \n",
       "75%    2018.000000       0.740000     3.500000            4.000000   \n",
       "max    2023.000000       1.000000     4.000000            6.000000   \n",
       "\n",
       "       Ingredient Level  \n",
       "count       2569.000000  \n",
       "mean           3.029194  \n",
       "std            0.900158  \n",
       "min            1.000000  \n",
       "25%            2.000000  \n",
       "50%            3.000000  \n",
       "75%            4.000000  \n",
       "max            6.000000  "
      ]
     },
     "execution_count": 6,
     "metadata": {},
     "output_type": "execute_result"
    }
   ],
   "source": [
    "# getting more info on the imported data set such as the standard deviation\n",
    "choc_bar_ratings_df_clean2.describe()"
   ]
  },
  {
   "cell_type": "code",
   "execution_count": 7,
   "id": "8fe2be2c",
   "metadata": {
    "scrolled": true
   },
   "outputs": [
    {
     "data": {
      "text/plain": [
       "array(['U.S.A.', 'France', 'Canada', 'U.K.', 'Denmark', 'Lithuania',\n",
       "       'Spain', 'Puerto Rico', 'Costa Rica', 'Switzerland', 'Brazil',\n",
       "       'Dominican Republic', 'Madagascar', 'Italy', 'Belgium',\n",
       "       'Philippines', 'Scotland', 'Peru', 'St. Lucia', 'Vietnam',\n",
       "       'Martinique', 'Ireland', 'Germany', 'Australia', 'Hungary',\n",
       "       'Austria', 'Guatemala', 'Finland', 'Iceland', 'Poland',\n",
       "       'New Zealand', 'Sweden', 'Ecuador', 'South Africa', 'Colombia',\n",
       "       'Honduras', 'Venezuela', 'Japan', 'Israel', 'Netherlands',\n",
       "       'Czech Republic', 'Chile', 'Russia', 'South Korea', 'Portugal',\n",
       "       'Singapore', 'India', 'Mexico', 'Suriname', 'U.A.E.',\n",
       "       'Sao Tome & Principe', 'Nicaragua', 'Taiwan', 'Norway', 'Thailand',\n",
       "       'St.Vincent-Grenadines', 'Malaysia', 'El Salvador', 'Grenada',\n",
       "       'Vanuatu', 'Bolivia', 'France (Reunion)', 'Argentina', 'Ghana',\n",
       "       'Fiji', 'Wales', nan], dtype=object)"
      ]
     },
     "execution_count": 7,
     "metadata": {},
     "output_type": "execute_result"
    }
   ],
   "source": [
    "# What this code is doing is showing which countries have the chocolate companies in them.\n",
    "choc_bar_ratings_df_clean2['Company Location'].unique()"
   ]
  },
  {
   "cell_type": "code",
   "execution_count": null,
   "id": "2b3ba7a3",
   "metadata": {},
   "outputs": [],
   "source": []
  },
  {
   "cell_type": "markdown",
   "id": "0b2632ff",
   "metadata": {},
   "source": [
    "3. Data Cleaning \n",
    "This is data cleaning again for choc_bar_ratings_df_clean2 in order to wrangle it with country_geo.  "
   ]
  },
  {
   "cell_type": "code",
   "execution_count": 8,
   "id": "b2dcc830",
   "metadata": {},
   "outputs": [
    {
     "data": {
      "text/plain": [
       "66"
      ]
     },
     "execution_count": 8,
     "metadata": {},
     "output_type": "execute_result"
    }
   ],
   "source": [
    "choc_bar_ratings_df_clean2['Company Location'].nunique()"
   ]
  },
  {
   "cell_type": "code",
   "execution_count": 9,
   "id": "bf02769f",
   "metadata": {},
   "outputs": [
    {
     "data": {
      "text/plain": [
       "66"
      ]
     },
     "execution_count": 9,
     "metadata": {},
     "output_type": "execute_result"
    }
   ],
   "source": [
    "# what this is doing is getting the number of unique company locations that \n",
    "# are present in the 'Company Location' column of my choc_bar_ratings_df_clean2 data frame\n",
    "# there are 67 total\n",
    "choc_bar_ratings_df_clean2['Company Location'].nunique()"
   ]
  },
  {
   "cell_type": "code",
   "execution_count": 10,
   "id": "1a6794e4",
   "metadata": {},
   "outputs": [],
   "source": [
    "# What this is doing is removing any leading and trailing whitespace from the 'Company Location' column\n",
    "choc_bar_ratings_df_clean2['Company Location'] = choc_bar_ratings_df_clean2['Company Location'].str.strip()"
   ]
  },
  {
   "cell_type": "code",
   "execution_count": 11,
   "id": "e967f53f",
   "metadata": {
    "scrolled": true
   },
   "outputs": [
    {
     "data": {
      "text/plain": [
       "['U.S.A.',\n",
       " 'France',\n",
       " 'Canada',\n",
       " 'U.K.',\n",
       " 'Denmark',\n",
       " 'Lithuania',\n",
       " 'Spain',\n",
       " 'Puerto Rico',\n",
       " 'Costa Rica',\n",
       " 'Switzerland',\n",
       " 'Brazil',\n",
       " 'Dominican Republic',\n",
       " 'Madagascar',\n",
       " 'Italy',\n",
       " 'Belgium',\n",
       " 'Philippines',\n",
       " 'Scotland',\n",
       " 'Peru',\n",
       " 'St. Lucia',\n",
       " 'Vietnam',\n",
       " 'Martinique',\n",
       " 'Ireland',\n",
       " 'Germany',\n",
       " 'Australia',\n",
       " 'Hungary',\n",
       " 'Austria',\n",
       " 'Guatemala',\n",
       " 'Finland',\n",
       " 'Iceland',\n",
       " 'Poland',\n",
       " 'New Zealand',\n",
       " 'Sweden',\n",
       " 'Ecuador',\n",
       " 'South Africa',\n",
       " 'Colombia',\n",
       " 'Honduras',\n",
       " 'Venezuela',\n",
       " 'Japan',\n",
       " 'Israel',\n",
       " 'Netherlands',\n",
       " 'Czech Republic',\n",
       " 'Chile',\n",
       " 'Russia',\n",
       " 'South Korea',\n",
       " 'Portugal',\n",
       " 'Singapore',\n",
       " 'India',\n",
       " 'Mexico',\n",
       " 'Suriname',\n",
       " 'U.A.E.',\n",
       " 'Sao Tome & Principe',\n",
       " 'Nicaragua',\n",
       " 'Taiwan',\n",
       " 'Norway',\n",
       " 'Thailand',\n",
       " 'St.Vincent-Grenadines',\n",
       " 'Malaysia',\n",
       " 'El Salvador',\n",
       " 'Grenada',\n",
       " 'Vanuatu',\n",
       " 'Bolivia',\n",
       " 'France (Reunion)',\n",
       " 'Argentina',\n",
       " 'Ghana',\n",
       " 'Fiji',\n",
       " 'Wales',\n",
       " nan]"
      ]
     },
     "execution_count": 11,
     "metadata": {},
     "output_type": "execute_result"
    }
   ],
   "source": [
    "# This code is extracting the unique values from the 'Company Location'\n",
    "# column of the DataFrame choc_bar_ratings_df_clean2 and converting them \n",
    "# into a Python list.  This resulting list will have all the unique company locations\n",
    "# found in that particular column of my dadaframe. \n",
    "\n",
    "\n",
    "(choc_bar_ratings_df_clean2['Company Location'].unique().tolist())"
   ]
  },
  {
   "cell_type": "code",
   "execution_count": 24,
   "id": "551e9fef",
   "metadata": {},
   "outputs": [],
   "source": [
    "# flin 11"
   ]
  },
  {
   "cell_type": "code",
   "execution_count": 25,
   "id": "5180f6a4",
   "metadata": {},
   "outputs": [],
   "source": [
    "# flin 14"
   ]
  },
  {
   "cell_type": "code",
   "execution_count": null,
   "id": "33fa1ff0",
   "metadata": {},
   "outputs": [],
   "source": []
  },
  {
   "cell_type": "code",
   "execution_count": 12,
   "id": "69ecafe2",
   "metadata": {},
   "outputs": [],
   "source": [
    "# What this line of code is doing is clarifying the name of to 'France (Reunion)' to simply 'Reunion'\n",
    "choc_bar_ratings_df_clean2['Company Location'] = choc_bar_ratings_df_clean2['Company Location'].str.replace('France (Reunion)', 'Reunion', regex=False)\n"
   ]
  },
  {
   "cell_type": "markdown",
   "id": "a9e3d839",
   "metadata": {},
   "source": [
    "5. Consistency Checks "
   ]
  },
  {
   "cell_type": "code",
   "execution_count": null,
   "id": "be3a6a52",
   "metadata": {},
   "outputs": [],
   "source": []
  },
  {
   "cell_type": "code",
   "execution_count": 15,
   "id": "195f29be",
   "metadata": {},
   "outputs": [
    {
     "data": {
      "text/plain": [
       "1"
      ]
     },
     "execution_count": 15,
     "metadata": {},
     "output_type": "execute_result"
    }
   ],
   "source": [
    "# What this line of code is doing is checking for missing values\n",
    "choc_bar_ratings_df_clean2['Rating'].isnull().sum()"
   ]
  },
  {
   "cell_type": "code",
   "execution_count": 16,
   "id": "b1e0ca98",
   "metadata": {},
   "outputs": [
    {
     "data": {
      "text/plain": [
       "<Axes: xlabel='Rating', ylabel='Count'>"
      ]
     },
     "execution_count": 16,
     "metadata": {},
     "output_type": "execute_result"
    },
    {
     "data": {
      "image/png": "[encoded data removed]",
      "text/plain": [
       "<Figure size 640x480 with 1 Axes>"
      ]
     },
     "metadata": {},
     "output_type": "display_data"
    }
   ],
   "source": [
    "# What this code is doing is creating a (histogram) visual representation of how\n",
    "# much the ratings are spread out among the chocolate bars in the data frame. \n",
    "# This also helps us see which ratings are more common and gives the viewer a better\n",
    "# overall idea of the distribution of ratings.\n",
    "# The highest ratings are really 3.0, 3.25, and 3.5\n",
    "\n",
    "\n",
    "sns.histplot(choc_bar_ratings_df_clean2['Rating'], bins=20, kde = True) # shows extreme values for 'Rating'"
   ]
  },
  {
   "cell_type": "code",
   "execution_count": null,
   "id": "33cff960",
   "metadata": {},
   "outputs": [],
   "source": []
  },
  {
   "cell_type": "code",
   "execution_count": 21,
   "id": "de7bc196",
   "metadata": {},
   "outputs": [
    {
     "data": {
      "text/html": [
       "<div>\n",
       "<style scoped>\n",
       "    .dataframe tbody tr th:only-of-type {\n",
       "        vertical-align: middle;\n",
       "    }\n",
       "\n",
       "    .dataframe tbody tr th {\n",
       "        vertical-align: top;\n",
       "    }\n",
       "\n",
       "    .dataframe thead tr th {\n",
       "        text-align: left;\n",
       "    }\n",
       "\n",
       "    .dataframe thead tr:last-of-type th {\n",
       "        text-align: right;\n",
       "    }\n",
       "</style>\n",
       "<table border=\"1\" class=\"dataframe\">\n",
       "  <thead>\n",
       "    <tr>\n",
       "      <th></th>\n",
       "      <th colspan=\"3\" halign=\"left\">Rating</th>\n",
       "    </tr>\n",
       "    <tr>\n",
       "      <th></th>\n",
       "      <th>mean</th>\n",
       "      <th>min</th>\n",
       "      <th>max</th>\n",
       "    </tr>\n",
       "    <tr>\n",
       "      <th>Company Location</th>\n",
       "      <th></th>\n",
       "      <th></th>\n",
       "      <th></th>\n",
       "    </tr>\n",
       "  </thead>\n",
       "  <tbody>\n",
       "    <tr>\n",
       "      <th>Argentina</th>\n",
       "      <td>3.305556</td>\n",
       "      <td>2.75</td>\n",
       "      <td>3.75</td>\n",
       "    </tr>\n",
       "    <tr>\n",
       "      <th>Australia</th>\n",
       "      <td>3.375000</td>\n",
       "      <td>2.50</td>\n",
       "      <td>4.00</td>\n",
       "    </tr>\n",
       "    <tr>\n",
       "      <th>Austria</th>\n",
       "      <td>3.258333</td>\n",
       "      <td>2.75</td>\n",
       "      <td>3.75</td>\n",
       "    </tr>\n",
       "    <tr>\n",
       "      <th>Belgium</th>\n",
       "      <td>3.072917</td>\n",
       "      <td>1.00</td>\n",
       "      <td>4.00</td>\n",
       "    </tr>\n",
       "    <tr>\n",
       "      <th>Bolivia</th>\n",
       "      <td>3.250000</td>\n",
       "      <td>2.75</td>\n",
       "      <td>3.75</td>\n",
       "    </tr>\n",
       "    <tr>\n",
       "      <th>...</th>\n",
       "      <td>...</td>\n",
       "      <td>...</td>\n",
       "      <td>...</td>\n",
       "    </tr>\n",
       "    <tr>\n",
       "      <th>U.S.A.</th>\n",
       "      <td>3.195940</td>\n",
       "      <td>1.50</td>\n",
       "      <td>4.00</td>\n",
       "    </tr>\n",
       "    <tr>\n",
       "      <th>Vanuatu</th>\n",
       "      <td>2.750000</td>\n",
       "      <td>2.50</td>\n",
       "      <td>3.00</td>\n",
       "    </tr>\n",
       "    <tr>\n",
       "      <th>Venezuela</th>\n",
       "      <td>3.112903</td>\n",
       "      <td>2.50</td>\n",
       "      <td>3.75</td>\n",
       "    </tr>\n",
       "    <tr>\n",
       "      <th>Vietnam</th>\n",
       "      <td>3.263889</td>\n",
       "      <td>2.50</td>\n",
       "      <td>3.75</td>\n",
       "    </tr>\n",
       "    <tr>\n",
       "      <th>Wales</th>\n",
       "      <td>2.750000</td>\n",
       "      <td>2.75</td>\n",
       "      <td>2.75</td>\n",
       "    </tr>\n",
       "  </tbody>\n",
       "</table>\n",
       "<p>66 rows × 3 columns</p>\n",
       "</div>"
      ],
      "text/plain": [
       "                    Rating            \n",
       "                      mean   min   max\n",
       "Company Location                      \n",
       "Argentina         3.305556  2.75  3.75\n",
       "Australia         3.375000  2.50  4.00\n",
       "Austria           3.258333  2.75  3.75\n",
       "Belgium           3.072917  1.00  4.00\n",
       "Bolivia           3.250000  2.75  3.75\n",
       "...                    ...   ...   ...\n",
       "U.S.A.            3.195940  1.50  4.00\n",
       "Vanuatu           2.750000  2.50  3.00\n",
       "Venezuela         3.112903  2.50  3.75\n",
       "Vietnam           3.263889  2.50  3.75\n",
       "Wales             2.750000  2.75  2.75\n",
       "\n",
       "[66 rows x 3 columns]"
      ]
     },
     "execution_count": 21,
     "metadata": {},
     "output_type": "execute_result"
    }
   ],
   "source": [
    "# Flin 30\n",
    "# This code is kinda like organizing the chocolate bars \n",
    "# by where their companies are located and then figuring out the average, lowest, and highest\n",
    "# ratings for each group or place. It also helps see how chocolates from different places compare in terms\n",
    "# of their ratings. \n",
    "\n",
    "choc_bar_ratings_df_clean2.groupby('Company Location').agg({'Rating' : ['mean','min','max']})\n"
   ]
  },
  {
   "cell_type": "markdown",
   "id": "98989155",
   "metadata": {},
   "source": [
    "What I also am doing is focusing more on mode specifically for the aggregations.  It might be the case that mode might best help with the analysis as there may be some outliers pulling the mean up or down thus changing the results.\n",
    "What this section is diong it looking at mode for aggregations.  "
   ]
  },
  {
   "cell_type": "code",
   "execution_count": 22,
   "id": "67d09937",
   "metadata": {},
   "outputs": [
    {
     "name": "stdout",
     "output_type": "stream",
     "text": [
      "<bound method DataFrame.groupby of      Company (Manufacturer) Company Location  Review Date  \\\n",
      "0                     Manoa           U.S.A.       2012.0   \n",
      "1                     Manoa           U.S.A.       2012.0   \n",
      "2                     Manoa           U.S.A.       2012.0   \n",
      "3                     Manoa           U.S.A.       2012.0   \n",
      "4                     Nanea           U.S.A.       2013.0   \n",
      "...                     ...              ...          ...   \n",
      "2652            Bahen & Co.        Australia       2012.0   \n",
      "2653          Mast Brothers           U.S.A.       2012.0   \n",
      "2654          Mast Brothers           U.S.A.       2012.0   \n",
      "2655            Bahen & Co.        Australia       2012.0   \n",
      "2656                    NaN              NaN          NaN   \n",
      "\n",
      "     Country of Bean Origin                  Specific Bean Origin or Bar Name  \\\n",
      "0                   Liberia                                Liberia, batch 174   \n",
      "1                    U.S.A.   Hawai'i Island, Hamakua, Hawaiian Crown, b. 176   \n",
      "2                      Peru                                  Piura, batch 173   \n",
      "3                    U.S.A.  O'ahu Island, Winward,Maunawili district, b. 151   \n",
      "4                    U.S.A.                                     Criollo Blend   \n",
      "...                     ...                                               ...   \n",
      "2652             Madagascar                                         Sambirano   \n",
      "2653                  Blend                                        Madagascar   \n",
      "2654              Venezuela                                             Chuao   \n",
      "2655                 Brazil                                             Bahia   \n",
      "2656                    NaN                                               NaN   \n",
      "\n",
      "      Cocoa Percent Most Memorable Characteristics  Rating  \\\n",
      "0              0.76  molassses, intense, off, herb    3.25   \n",
      "1              0.76     oily, tangy, fruit, earthy    2.75   \n",
      "2              0.76     banana, menthol, medicinal    3.00   \n",
      "3              0.68         molasses, sweet, cocoa    3.25   \n",
      "4              0.72           sandy, spicy, earthy    3.50   \n",
      "...             ...                            ...     ...   \n",
      "2652           0.80        unrefined, flat, grassy    3.00   \n",
      "2653           0.75      gritty, overly tart, sour    2.50   \n",
      "2654           0.75            gritty, sour, sweet    2.75   \n",
      "2655           0.70      chalky, intense, chemical    2.50   \n",
      "2656           0.72                            NaN     NaN   \n",
      "\n",
      "      Num_of_Ingredients Specific Ingredients Cocoa Level  Ingredient Level  \\\n",
      "0                      3                B,S,C         NaN               3.0   \n",
      "1                      3                B,S,C         NaN               3.0   \n",
      "2                      3                B,S,C         NaN               3.0   \n",
      "3                      3                B,S,C         NaN               3.0   \n",
      "4                      0                  NaN         NaN               NaN   \n",
      "...                  ...                  ...         ...               ...   \n",
      "2652                   2                  B,S         NaN               2.0   \n",
      "2653                   2                  B,S         NaN               2.0   \n",
      "2654                   2                  B,S         NaN               2.0   \n",
      "2655                   2                  B,S         NaN               2.0   \n",
      "2656                   0                  NaN         NaN               NaN   \n",
      "\n",
      "     Rating Level  \n",
      "0       Mid-level  \n",
      "1       Mid-level  \n",
      "2       Mid-level  \n",
      "3       Mid-level  \n",
      "4       Mid-level  \n",
      "...           ...  \n",
      "2652    Mid-level  \n",
      "2653    Mid-level  \n",
      "2654    Mid-level  \n",
      "2655    Mid-level  \n",
      "2656          NaN  \n",
      "\n",
      "[2657 rows x 13 columns]>\n"
     ]
    }
   ],
   "source": [
    "# What this code is doing is creating how to see rating mode values of 'company location'\n",
    "# It also has the custom function in order to calculate the mode\n",
    "\n",
    "def calculate_mode(group): return group.mode().iloc[0]  \n",
    "\n",
    "# This code also has the Group by 'Company Location' and apply the custom function\n",
    "rating_modes = choc_bar_ratings_df_clean2.groupby\n",
    "# ('Company Location')['Rating'].apply(calculate_mode).reset_index()\n",
    "\n",
    "print(rating_modes)"
   ]
  },
  {
   "cell_type": "code",
   "execution_count": 23,
   "id": "41c94e27",
   "metadata": {},
   "outputs": [
    {
     "data": {
      "image/png": "[encoded data removed]",
      "text/plain": [
       "<Figure size 640x480 with 1 Axes>"
      ]
     },
     "metadata": {},
     "output_type": "display_data"
    }
   ],
   "source": [
    "# What this code is doing is creating a histogram of ratings modal values that are using Australia as an example\n",
    "usa_ratings = choc_bar_ratings_df_clean2[choc_bar_ratings_df_clean2['Company Location'] == 'Australia']\n",
    "sns.histplot(usa_ratings['Rating'], bins=20, kde=True)\n",
    "plt.xlabel('Rating')\n",
    "plt.ylabel('Frequency')\n",
    "plt.title('Ratings Distribution in the Australia')\n",
    "plt.show()"
   ]
  },
  {
   "cell_type": "code",
   "execution_count": 93,
   "id": "7c63231d",
   "metadata": {},
   "outputs": [
    {
     "data": {
      "image/png": "[encoded data removed]",
      "text/plain": [
       "<Figure size 640x480 with 1 Axes>"
      ]
     },
     "metadata": {},
     "output_type": "display_data"
    }
   ],
   "source": [
    "# What this code is doing is creating a  histogram of ratings modal values that are using U.S.A as an example\n",
    "usa_ratings = choc_bar_ratings_df_clean2[choc_bar_ratings_df_clean2['Company Location'] == 'U.S.A.']\n",
    "sns.histplot(usa_ratings['Rating'], bins=20, kde=True)\n",
    "plt.xlabel('Rating')\n",
    "plt.ylabel('Frequency')\n",
    "plt.title('Ratings Distribution in the U.S.A.')\n",
    "plt.show()"
   ]
  },
  {
   "cell_type": "code",
   "execution_count": 24,
   "id": "22660d3b",
   "metadata": {},
   "outputs": [
    {
     "data": {
      "image/png": "[encoded data removed]",
      "text/plain": [
       "<Figure size 640x480 with 1 Axes>"
      ]
     },
     "metadata": {},
     "output_type": "display_data"
    }
   ],
   "source": [
    "# What this code is doing  is creating a histogram of ratings modal values that are using Peru as an example\n",
    "usa_ratings = choc_bar_ratings_df_clean2[choc_bar_ratings_df_clean2['Company Location'] == 'Peru']\n",
    "sns.histplot(usa_ratings['Rating'], bins=20, kde=True)\n",
    "plt.xlabel('Rating')\n",
    "plt.ylabel('Frequency')\n",
    "plt.title('Ratings Distribution in Peru')\n",
    "plt.show()"
   ]
  },
  {
   "cell_type": "code",
   "execution_count": 25,
   "id": "935dac10",
   "metadata": {},
   "outputs": [
    {
     "data": {
      "image/png": "[encoded data removed]",
      "text/plain": [
       "<Figure size 640x480 with 1 Axes>"
      ]
     },
     "metadata": {},
     "output_type": "display_data"
    }
   ],
   "source": [
    "# What this code is doing is  creating a histogram of ratings modal values that are using Venezuela as an example\n",
    "usa_ratings = choc_bar_ratings_df_clean2[choc_bar_ratings_df_clean2['Company Location'] == 'Venezuela']\n",
    "sns.histplot(usa_ratings['Rating'], bins=20, kde=True)\n",
    "plt.xlabel('Rating')\n",
    "plt.ylabel('Frequency')\n",
    "plt.title('Ratings Distribution in the Venezuela')\n",
    "plt.show()"
   ]
  },
  {
   "cell_type": "markdown",
   "id": "630273d5",
   "metadata": {},
   "source": [
    "Each country has it's own significant data.  I feel like mean is the best way to go because overall the average is a good way to \n",
    "create generalizations in the data. "
   ]
  },
  {
   "cell_type": "code",
   "execution_count": 26,
   "id": "33d3b37d",
   "metadata": {},
   "outputs": [],
   "source": [
    "df_special_countries = choc_bar_ratings_df_clean2['Company Location'].unique()\n",
    "# what this code is doing in particular is creating a brand new subset from the \n",
    "# choc_bar_ratings_df_clean2 data frame and having it focus mainly on the 'company location'"
   ]
  },
  {
   "cell_type": "code",
   "execution_count": null,
   "id": "9ff95648",
   "metadata": {},
   "outputs": [],
   "source": []
  },
  {
   "cell_type": "code",
   "execution_count": 27,
   "id": "f4164f47",
   "metadata": {},
   "outputs": [],
   "source": [
    "# What this is doing is creating a new dataFrame that has the unique company locations\n",
    "unique_countries_df = pd.DataFrame({'Company Location': df_special_countries})\n"
   ]
  },
  {
   "cell_type": "code",
   "execution_count": null,
   "id": "fe22be0c",
   "metadata": {},
   "outputs": [],
   "source": []
  },
  {
   "cell_type": "markdown",
   "id": "375b856e",
   "metadata": {},
   "source": [
    "With this part, I chose to go with the mode value however the mean and other values are still significant.  By looking at the U.S.A histogram one can see the modal value is 3.5 but by looking at more of the data the mean is 3.19.  This 3.19 mean is obviously because there are values lower than the 3.5 modal value.  What it all comes down to is using the right one based off situational awareness.  The same thing we can see with the Venezuela histogram.  The Venezuela modal value 3.0 and the mean is 3.1.  So this means that there are more values that are greater than 3 that make the histogram have a mean that's higher than 3.  "
   ]
  },
  {
   "cell_type": "code",
   "execution_count": 99,
   "id": "c7211419",
   "metadata": {},
   "outputs": [],
   "source": [
    "### ***Note maybe add top 4 countries to this list"
   ]
  },
  {
   "cell_type": "code",
   "execution_count": 28,
   "id": "e0ff87a9",
   "metadata": {},
   "outputs": [],
   "source": [
    "\n",
    "# What this particular line of code is doing is saying, \n",
    "# \"From the DataFrame choc_bar_ratings_df_clean2,\n",
    "# provide me the unique list of countries where the cocoa\n",
    "# beans originated, and store that list in a variable \n",
    "# called unique_bean_countries.\" This can be useful for \n",
    "# understanding the diversity of bean origins in the dataset.\n",
    "\n",
    "unique_bean_countries = choc_bar_ratings_df_clean2['Country of Bean Origin'].unique()"
   ]
  },
  {
   "cell_type": "code",
   "execution_count": 29,
   "id": "3902f861",
   "metadata": {},
   "outputs": [],
   "source": [
    "# To put it simply, this line of code is\n",
    "# taking the list of unique country names (unique_bean_countries) \n",
    "# and turning it into a new DataFrame (unique_bean_countries_df). \n",
    "# Each country name gets its own row in the 'Country of Bean Origin'\n",
    "# column of this new DataFrame.\n",
    "\n",
    "unique_bean_countries_df = pd.DataFrame({'Country of Bean Origin': unique_bean_countries})"
   ]
  },
  {
   "cell_type": "code",
   "execution_count": null,
   "id": "b512a30b",
   "metadata": {},
   "outputs": [],
   "source": []
  },
  {
   "cell_type": "code",
   "execution_count": 43,
   "id": "57b6be39",
   "metadata": {},
   "outputs": [],
   "source": []
  },
  {
   "cell_type": "code",
   "execution_count": 31,
   "id": "d29b5d6e",
   "metadata": {},
   "outputs": [
    {
     "data": {
      "text/html": [
       "<div>\n",
       "<style scoped>\n",
       "    .dataframe tbody tr th:only-of-type {\n",
       "        vertical-align: middle;\n",
       "    }\n",
       "\n",
       "    .dataframe tbody tr th {\n",
       "        vertical-align: top;\n",
       "    }\n",
       "\n",
       "    .dataframe thead th {\n",
       "        text-align: right;\n",
       "    }\n",
       "</style>\n",
       "<table border=\"1\" class=\"dataframe\">\n",
       "  <thead>\n",
       "    <tr style=\"text-align: right;\">\n",
       "      <th></th>\n",
       "      <th>Country of Bean Origin</th>\n",
       "    </tr>\n",
       "  </thead>\n",
       "  <tbody>\n",
       "    <tr>\n",
       "      <th>0</th>\n",
       "      <td>Liberia</td>\n",
       "    </tr>\n",
       "    <tr>\n",
       "      <th>1</th>\n",
       "      <td>U.S.A.</td>\n",
       "    </tr>\n",
       "    <tr>\n",
       "      <th>2</th>\n",
       "      <td>Peru</td>\n",
       "    </tr>\n",
       "    <tr>\n",
       "      <th>3</th>\n",
       "      <td>Panama</td>\n",
       "    </tr>\n",
       "    <tr>\n",
       "      <th>4</th>\n",
       "      <td>Madagascar</td>\n",
       "    </tr>\n",
       "  </tbody>\n",
       "</table>\n",
       "</div>"
      ],
      "text/plain": [
       "  Country of Bean Origin\n",
       "0                Liberia\n",
       "1                 U.S.A.\n",
       "2                   Peru\n",
       "3                 Panama\n",
       "4             Madagascar"
      ]
     },
     "execution_count": 31,
     "metadata": {},
     "output_type": "execute_result"
    }
   ],
   "source": [
    "# What this line of code is doing is checking the Country of Bean Origin Column\n",
    "unique_bean_countries_df.head()"
   ]
  },
  {
   "cell_type": "markdown",
   "id": "b7eeef80",
   "metadata": {},
   "source": [
    "6.  In Summary: Discuss the results and what they mean in the markdown section. \n",
    "Does the analysis answer any of your existing researh questions? \n",
    "Does the analysis lead you to new research questions? \n",
    "It has been interesting to see that there are various results.  It's neat to see that there are various countries that actually don't produce that much cacao beans end up yielding lots of high rated chocolate bars. \n",
    "Australia is an example of one of those countries.  Overall, there are a multitude of countries that produce Cocao beans.  "
   ]
  },
  {
   "cell_type": "markdown",
   "id": "16b9202b",
   "metadata": {},
   "source": [
    "\n",
    "Note: Geopandas was not used because visualizations  particularly Chloropleths will be used a lot more in Tableau"
   ]
  },
  {
   "cell_type": "markdown",
   "id": "870732a4",
   "metadata": {},
   "source": [
    "7 Export Data"
   ]
  },
  {
   "cell_type": "code",
   "execution_count": 33,
   "id": "0f72d42b",
   "metadata": {},
   "outputs": [],
   "source": [
    "# exporting the cleaned flavors of cacao data but it needs to be in the \"prepared data\"\n",
    "choc_bar_ratings_df_clean2.to_csv(r'C:\\Users\\rdpor\\anaconda3\\Scripts\\CAREER FOUNDRY ACHIEVMENT 6\\Prepared Data\\choc_bar_ratings_df_clean3.csv', index=False)"
   ]
  },
  {
   "cell_type": "code",
   "execution_count": null,
   "id": "7883991d",
   "metadata": {},
   "outputs": [],
   "source": []
  }
 ],
 "metadata": {
  "kernelspec": {
   "display_name": "Python 3 (ipykernel)",
   "language": "python",
   "name": "python3"
  },
  "language_info": {
   "codemirror_mode": {
    "name": "ipython",
    "version": 3
   },
   "file_extension": ".py",
   "mimetype": "text/x-python",
   "name": "python",
   "nbconvert_exporter": "python",
   "pygments_lexer": "ipython3",
   "version": "3.11.4"
  }
 },
 "nbformat": 4,
 "nbformat_minor": 5
}
